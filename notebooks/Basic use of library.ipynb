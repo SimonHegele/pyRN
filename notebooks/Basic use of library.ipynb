{
 "cells": [
  {
   "cell_type": "markdown",
   "id": "dc224412",
   "metadata": {},
   "source": [
    "# Basic use of library\n",
    "\n",
    "After a successful installation (see Intoduction.ipynb), the library can be imported."
   ]
  },
  {
   "cell_type": "code",
   "execution_count": 8,
   "id": "2dc65500",
   "metadata": {},
   "outputs": [],
   "source": [
    "import sys\n",
    "!{sys.executable} -m pip install ../. --quiet --user #installation of library in local enviorment\n",
    "from pyRN import pyRN"
   ]
  },
  {
   "cell_type": "markdown",
   "id": "4858bc75",
   "metadata": {},
   "source": [
    "Reaction networks can be loaded form a text files, please refer to `../netwoks/rn_test.txt` to see an example. Textfiles preserve [antimony](https://http://antimony.sourceforge.net/) general strucutre in terms of reaction and reaction arrows (=> for unidirectional reactions and -> for reversible reaction). So an pyRN object can be created by the following command:"
   ]
  },
  {
   "cell_type": "code",
   "execution_count": 9,
   "id": "2eddfd59",
   "metadata": {},
   "outputs": [],
   "source": [
    "file=\"../networks/rn_test.txt\"\n",
    "RN = pyRN.from_txt(file)"
   ]
  },
  {
   "cell_type": "markdown",
   "id": "80ac9fc2",
   "metadata": {},
   "source": [
    "Alternative sbml files can be loaded:"
   ]
  },
  {
   "cell_type": "code",
   "execution_count": null,
   "id": "513dd728",
   "metadata": {},
   "outputs": [],
   "source": [
    "file=\"../networks/PW000035.sbml\"\n",
    "RN = pyRN.from_sbml(file,modifiers=True,bond_con=True,rand_bc=False)"
   ]
  },
  {
   "cell_type": "markdown",
   "id": "ecebe1b4",
   "metadata": {},
   "source": [
    "The latter inizialization options corresponds to:\n",
    "\n",
    "- `modifiers`: if consider modifiers species as catalizers\n",
    "- `bond_con`: if considers boundary condition species as inflow, by adding a reaction\n",
    "- `rand_bc`: Consider a random selection of the bonday condition species as inflow.\n",
    "\n",
    "Once the reaction network is inizialized, basic properties can be easily obtained:"
   ]
  },
  {
   "cell_type": "code",
   "execution_count": 10,
   "id": "54c5d554",
   "metadata": {},
   "outputs": [
    {
     "name": "stdout",
     "output_type": "stream",
     "text": [
      "Vector of species\n",
      "['s8' 's5' 's9' 's1' 's11' 's4' 's7' 's2' 's3' 's6' 's10']\n",
      "Vector of species names, in case of an initialization form an smbl file result can be different\n",
      "['s8' 's5' 's9' 's1' 's11' 's4' 's7' 's2' 's3' 's6' 's10']\n",
      "Display species\n",
      "None\n",
      "Display reactions\n",
      "R_0:   2s1 s2 => s1 s3 \n",
      "R_1:   s1 s3 => 2s1 s2 \n",
      "R_2:   s5 s4 => 2s7 s6 \n",
      "R_3:   2s7 s6 => s5 s4 \n",
      "R_4:   2s8 2s9 => 2s2 s3 \n",
      "R_5:   2s2 2s6 => 2s5 s1 \n",
      "R_6:   s8 2s6 => 2s4 2s6 \n",
      "R_7:   2s4 2s6 => s8 2s6 \n",
      "R_8:   s9 s10 => s8 2s11 \n",
      "R_9:   2s5 2s3 => s2 \n",
      "R_10:   2s8 s1 => s9 s3 \n",
      "R_11:   s9 s3 => 2s8 s1 \n",
      "R_12:   2s9 s3 => 2s1 2s6 \n",
      "R_13:   s9 s7 => 2s9 \n",
      "R_14:   2s9 => s9 s7 \n",
      "R_15:   s11 2s6 => 2s8 s10 \n",
      "R_16:   2s2 s3 => 2s5 2s9 \n",
      "None\n",
      "Reactive stochiometric matrix\n",
      "      0    1    2    3    4    5    6    7    8    9    10   11   12   13  \\\n",
      "s8   0.0  0.0  0.0  0.0  2.0  0.0  1.0  0.0  0.0  0.0  2.0  0.0  0.0  0.0   \n",
      "s5   0.0  0.0  1.0  0.0  0.0  0.0  0.0  0.0  0.0  2.0  0.0  0.0  0.0  0.0   \n",
      "s9   0.0  0.0  0.0  0.0  2.0  0.0  0.0  0.0  1.0  0.0  0.0  1.0  2.0  1.0   \n",
      "s1   2.0  1.0  0.0  0.0  0.0  0.0  0.0  0.0  0.0  0.0  1.0  0.0  0.0  0.0   \n",
      "s11  0.0  0.0  0.0  0.0  0.0  0.0  0.0  0.0  0.0  0.0  0.0  0.0  0.0  0.0   \n",
      "s4   0.0  0.0  1.0  0.0  0.0  0.0  0.0  2.0  0.0  0.0  0.0  0.0  0.0  0.0   \n",
      "s7   0.0  0.0  0.0  2.0  0.0  0.0  0.0  0.0  0.0  0.0  0.0  0.0  0.0  1.0   \n",
      "s2   1.0  0.0  0.0  0.0  0.0  2.0  0.0  0.0  0.0  0.0  0.0  0.0  0.0  0.0   \n",
      "s3   0.0  1.0  0.0  0.0  0.0  0.0  0.0  0.0  0.0  2.0  0.0  1.0  1.0  0.0   \n",
      "s6   0.0  0.0  0.0  1.0  0.0  2.0  2.0  2.0  0.0  0.0  0.0  0.0  0.0  0.0   \n",
      "s10  0.0  0.0  0.0  0.0  0.0  0.0  0.0  0.0  1.0  0.0  0.0  0.0  0.0  0.0   \n",
      "\n",
      "      14   15   16  \n",
      "s8   0.0  0.0  0.0  \n",
      "s5   0.0  0.0  0.0  \n",
      "s9   2.0  0.0  0.0  \n",
      "s1   0.0  0.0  0.0  \n",
      "s11  0.0  1.0  0.0  \n",
      "s4   0.0  0.0  0.0  \n",
      "s7   0.0  0.0  0.0  \n",
      "s2   0.0  0.0  2.0  \n",
      "s3   0.0  0.0  1.0  \n",
      "s6   0.0  2.0  0.0  \n",
      "s10  0.0  0.0  0.0  \n",
      "Productive stoichimetric matrix\n",
      "      0    1    2    3    4    5    6    7    8    9    10   11   12   13  \\\n",
      "s8   0.0  0.0  0.0  0.0  0.0  0.0  0.0  1.0  1.0  0.0  0.0  2.0  0.0  0.0   \n",
      "s5   0.0  0.0  0.0  1.0  0.0  2.0  0.0  0.0  0.0  0.0  0.0  0.0  0.0  0.0   \n",
      "s9   0.0  0.0  0.0  0.0  0.0  0.0  0.0  0.0  0.0  0.0  1.0  0.0  0.0  2.0   \n",
      "s1   1.0  2.0  0.0  0.0  0.0  1.0  0.0  0.0  0.0  0.0  0.0  1.0  2.0  0.0   \n",
      "s11  0.0  0.0  0.0  0.0  0.0  0.0  0.0  0.0  2.0  0.0  0.0  0.0  0.0  0.0   \n",
      "s4   0.0  0.0  0.0  1.0  0.0  0.0  2.0  0.0  0.0  0.0  0.0  0.0  0.0  0.0   \n",
      "s7   0.0  0.0  2.0  0.0  0.0  0.0  0.0  0.0  0.0  0.0  0.0  0.0  0.0  0.0   \n",
      "s2   0.0  1.0  0.0  0.0  2.0  0.0  0.0  0.0  0.0  1.0  0.0  0.0  0.0  0.0   \n",
      "s3   1.0  0.0  0.0  0.0  1.0  0.0  0.0  0.0  0.0  0.0  1.0  0.0  0.0  0.0   \n",
      "s6   0.0  0.0  1.0  0.0  0.0  0.0  2.0  2.0  0.0  0.0  0.0  0.0  2.0  0.0   \n",
      "s10  0.0  0.0  0.0  0.0  0.0  0.0  0.0  0.0  0.0  0.0  0.0  0.0  0.0  0.0   \n",
      "\n",
      "      14   15   16  \n",
      "s8   0.0  2.0  0.0  \n",
      "s5   0.0  0.0  2.0  \n",
      "s9   1.0  0.0  2.0  \n",
      "s1   0.0  0.0  0.0  \n",
      "s11  0.0  0.0  0.0  \n",
      "s4   0.0  0.0  0.0  \n",
      "s7   1.0  0.0  0.0  \n",
      "s2   0.0  0.0  0.0  \n",
      "s3   0.0  0.0  0.0  \n",
      "s6   0.0  0.0  0.0  \n",
      "s10  0.0  1.0  0.0  \n",
      "Stoichiometric Matrix\n",
      "      0    1    2    3    4    5    6    7    8    9    10   11   12   13  \\\n",
      "s8   0.0  0.0  0.0  0.0 -2.0  0.0 -1.0  1.0  1.0  0.0 -2.0  2.0  0.0  0.0   \n",
      "s5   0.0  0.0 -1.0  1.0  0.0  2.0  0.0  0.0  0.0 -2.0  0.0  0.0  0.0  0.0   \n",
      "s9   0.0  0.0  0.0  0.0 -2.0  0.0  0.0  0.0 -1.0  0.0  1.0 -1.0 -2.0  1.0   \n",
      "s1  -1.0  1.0  0.0  0.0  0.0  1.0  0.0  0.0  0.0  0.0 -1.0  1.0  2.0  0.0   \n",
      "s11  0.0  0.0  0.0  0.0  0.0  0.0  0.0  0.0  2.0  0.0  0.0  0.0  0.0  0.0   \n",
      "s4   0.0  0.0 -1.0  1.0  0.0  0.0  2.0 -2.0  0.0  0.0  0.0  0.0  0.0  0.0   \n",
      "s7   0.0  0.0  2.0 -2.0  0.0  0.0  0.0  0.0  0.0  0.0  0.0  0.0  0.0 -1.0   \n",
      "s2  -1.0  1.0  0.0  0.0  2.0 -2.0  0.0  0.0  0.0  1.0  0.0  0.0  0.0  0.0   \n",
      "s3   1.0 -1.0  0.0  0.0  1.0  0.0  0.0  0.0  0.0 -2.0  1.0 -1.0 -1.0  0.0   \n",
      "s6   0.0  0.0  1.0 -1.0  0.0 -2.0  0.0  0.0  0.0  0.0  0.0  0.0  2.0  0.0   \n",
      "s10  0.0  0.0  0.0  0.0  0.0  0.0  0.0  0.0 -1.0  0.0  0.0  0.0  0.0  0.0   \n",
      "\n",
      "      14   15   16  \n",
      "s8   0.0  2.0  0.0  \n",
      "s5   0.0  0.0  2.0  \n",
      "s9  -1.0  0.0  2.0  \n",
      "s1   0.0  0.0  0.0  \n",
      "s11  0.0 -1.0  0.0  \n",
      "s4   0.0  0.0  0.0  \n",
      "s7   1.0  0.0  0.0  \n",
      "s2   0.0  0.0 -2.0  \n",
      "s3   0.0  0.0 -1.0  \n",
      "s6   0.0 -2.0  0.0  \n",
      "s10  0.0  1.0  0.0  \n",
      "Inflow species\n",
      "[]\n",
      "Outflow species\n",
      "[]\n"
     ]
    }
   ],
   "source": [
    "print(\"Vector of species\")\n",
    "print(RN.sp)\n",
    "print(\"Vector of species names, in case of an initialization form an smbl file result can be different\")\n",
    "print(RN.sp_n)\n",
    "print(\"Display species\")\n",
    "print(RN.sin_print_sp())\n",
    "print(\"Display reactions\")\n",
    "print(RN.sin_print_r())\n",
    "print(\"Reactive stochiometric matrix\")\n",
    "print(RN.mr)\n",
    "print(\"Productive stoichimetric matrix\")\n",
    "print(RN.mp)\n",
    "print(\"Stoichiometric Matrix\")\n",
    "print(RN.mp-RN.mr)\n",
    "print(\"Inflow species\")\n",
    "print(RN.is_inflow(RN.sp,set_type=True))\n",
    "print(\"Outflow species\")\n",
    "print(RN.is_outflow(RN.sp,set_type=True))"
   ]
  },
  {
   "cell_type": "markdown",
   "id": "f93bace0",
   "metadata": {},
   "source": [
    "The functions `sin_print_sp()` and `sin_print_r()` can receive as argument `np.arrays` of the elements to be displayed. The `is_inflow()` and `is_outflow()` functions, the `set_type=True` argument is necessary the function display corresponds to an `np.array object` and therefore understandable. \n",
    "\n",
    "There are also functions to visualize the network as well as the stoichiometric matrix:"
   ]
  },
  {
   "cell_type": "code",
   "execution_count": 12,
   "id": "58363ee3",
   "metadata": {},
   "outputs": [
    {
     "data": {
      "text/plain": [
       "<Figure size 720x360 with 0 Axes>"
      ]
     },
     "metadata": {},
     "output_type": "display_data"
    },
    {
     "data": {
      "image/png": "[encoded data removed]",
      "text/plain": [
       "<Figure size 445.091x288 with 1 Axes>"
      ]
     },
     "metadata": {
      "needs_background": "light"
     },
     "output_type": "display_data"
    },
    {
     "ename": "TypeError",
     "evalue": "show() missing 1 required positional argument: 'name'",
     "output_type": "error",
     "traceback": [
      "\u001b[0;31m---------------------------------------------------------------------------\u001b[0m",
      "\u001b[0;31mTypeError\u001b[0m                                 Traceback (most recent call last)",
      "Input \u001b[0;32mIn [12]\u001b[0m, in \u001b[0;36m<cell line: 3>\u001b[0;34m()\u001b[0m\n\u001b[1;32m      1\u001b[0m RN\u001b[38;5;241m.\u001b[39mplot_S()\n\u001b[1;32m      2\u001b[0m nt\u001b[38;5;241m=\u001b[39mRN\u001b[38;5;241m.\u001b[39mdisplay_RN()\n\u001b[0;32m----> 3\u001b[0m \u001b[43mnt\u001b[49m\u001b[38;5;241;43m.\u001b[39;49m\u001b[43mshow\u001b[49m\u001b[43m(\u001b[49m\u001b[43m)\u001b[49m\n",
      "\u001b[0;31mTypeError\u001b[0m: show() missing 1 required positional argument: 'name'"
     ]
    }
   ],
   "source": [
    "RN.plot_S()\n",
    "nt=RN.display_RN()\n",
    "nt.show('RN.htlm')"
   ]
  }
 ],
 "metadata": {
  "kernelspec": {
   "display_name": "Python 3 (ipykernel)",
   "language": "python",
   "name": "python3"
  },
  "language_info": {
   "codemirror_mode": {
    "name": "ipython",
    "version": 3
   },
   "file_extension": ".py",
   "mimetype": "text/x-python",
   "name": "python",
   "nbconvert_exporter": "python",
   "pygments_lexer": "ipython3",
   "version": "3.9.2"
  }
 },
 "nbformat": 4,
 "nbformat_minor": 5
}
