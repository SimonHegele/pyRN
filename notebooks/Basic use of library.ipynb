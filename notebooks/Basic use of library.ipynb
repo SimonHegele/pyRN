{
 "cells": [
  {
   "cell_type": "markdown",
   "id": "dc224412",
   "metadata": {},
   "source": [
    "# Basic use of library\n",
    "\n",
    "After a successful installation (see Intoduction.ipynb), the library can be imported."
   ]
  },
  {
   "cell_type": "code",
   "execution_count": 1,
   "id": "2dc65500",
   "metadata": {},
   "outputs": [],
   "source": [
    "import sys\n",
    "!{sys.executable} -m pip install ../. --quiet --user #installation of library in local enviorment\n",
    "from pyRN import pyRN"
   ]
  },
  {
   "cell_type": "markdown",
   "id": "4858bc75",
   "metadata": {},
   "source": [
    "Reaction networks can be loaded form a text files, please refer to `../netwoks/rn_test.txt` to see an example. Textfiles preserve [antimony](https://http://antimony.sourceforge.net/) general strucutre in terms of reaction and reaction arrows (=> for unidirectional reactions and -> for reversible reaction). So an pyRN object can be created by the following command:"
   ]
  },
  {
   "cell_type": "code",
   "execution_count": 2,
   "id": "2eddfd59",
   "metadata": {},
   "outputs": [],
   "source": [
    "file=\"../networks/rn_test.txt\"\n",
    "RN = pyRN.from_txt(file)"
   ]
  },
  {
   "cell_type": "markdown",
   "id": "80ac9fc2",
   "metadata": {},
   "source": [
    "Alternative sbml files can be loaded:"
   ]
  },
  {
   "cell_type": "code",
   "execution_count": 3,
   "id": "513dd728",
   "metadata": {},
   "outputs": [],
   "source": [
    "file=\"../networks/PW000035.sbml\"\n",
    "RN = pyRN.from_sbml(file,modifiers=True,bond_con=True,rand_bc=False)"
   ]
  },
  {
   "cell_type": "markdown",
   "id": "ecebe1b4",
   "metadata": {},
   "source": [
    "The latter inizialization options corresponds to:\n",
    "\n",
    "- `modifiers`: if consider modifiers species as catalizers\n",
    "- `bond_con`: if considers boundary condition species as inflow, by adding a reaction\n",
    "- `rand_bc`: Consider a random selection of the bonday condition species as inflow.\n",
    "\n",
    "Once the reaction network is inizialized, basic properties can be easily obtained:"
   ]
  },
  {
   "cell_type": "code",
   "execution_count": 4,
   "id": "54c5d554",
   "metadata": {},
   "outputs": [
    {
     "name": "stdout",
     "output_type": "stream",
     "text": [
      "Vector of species\n",
      "['Compound170' 'ProteinComplex320' 'Compound32' 'Compound1632'\n",
      " 'Compound964' 'Compound1420' 'Compound1973' 'Compound1170'\n",
      " 'ProteinComplex330' 'ProteinComplex329' 'Compound1104' 'Compound1034'\n",
      " 'Compound1860' 'Compound1957' 'Compound1065' 'Compound165'\n",
      " 'ProteinComplex328' 'Compound2109' 'ProteinComplex327' 'Compound414']\n",
      "Vector of species names, in case of an initialization form an smbl file result can be different\n",
      "['Pyrophosphate'\n",
      " 'Ectonucleotide pyrophosphatase/phosphodiesterase family member 1'\n",
      " 'Adenosine monophosphate' 'Hydroquinone' 'FAD' 'Water'\n",
      " '6,7-Dimethyl-8-(1-D-ribityl)lumazine' 'Flavin Mononucleotide'\n",
      " 'Riboflavin kinase'\n",
      " 'Low molecular weight phosphotyrosine protein phosphatase' 'Phosphate'\n",
      " 'Adenosine diphosphate' 'Quinone' 'Dimethylbenzimidazole' 'Oxygen'\n",
      " 'Riboflavin' 'FAD synthase' '7-Hydroxy-6-methyl-8-ribityl lumazine'\n",
      " 'Tyrosinase' 'Adenosine triphosphate']\n",
      "Display species\n",
      "Species:  {Compound170, ProteinComplex320, Compound32, Compound1632, Compound964, Compound1420, Compound1973, Compound1170, ProteinComplex330, ProteinComplex329, Compound1104, Compound1034, Compound1860, Compound1957, Compound1065, Compound165, ProteinComplex328, Compound2109, ProteinComplex327, Compound414}\n",
      "\n",
      "None\n",
      "Display reactions\n",
      "R_0:   2Compound1632 + Compound1065 + ProteinComplex327 => 2Compound1420 + 2Compound1860 + ProteinComplex327 \n",
      "R_1:   Compound1973 + Compound1860 => Compound1632 + Compound2109 \n",
      "R_2:   ProteinComplex320 + Compound964 + Compound1420 => ProteinComplex320 + Compound32 + Compound1170 \n",
      "R_3:   Compound1170 + ProteinComplex328 + Compound414 => Compound170 + Compound964 + ProteinComplex328 \n",
      "R_4:   Compound1420 + Compound1170 + ProteinComplex329 => ProteinComplex329 + Compound1104 + Compound165 \n",
      "R_5:   ProteinComplex330 + Compound165 + Compound414 => Compound1170 + ProteinComplex330 + Compound1034 \n",
      "R_6:   Compound165 => Compound1957 \n",
      "R_7: => Compound1973 \n",
      "R_8: => Compound165 \n",
      "R_9:   Compound1957 => \n",
      "None\n",
      "Reactive stochiometric matrix\n",
      "                     0    1    2    3    4    5    6    7    8    9\n",
      "Compound170        0.0  0.0  0.0  0.0  0.0  0.0  0.0  0.0  0.0  0.0\n",
      "ProteinComplex320  0.0  0.0  1.0  0.0  0.0  0.0  0.0  0.0  0.0  0.0\n",
      "Compound32         0.0  0.0  0.0  0.0  0.0  0.0  0.0  0.0  0.0  0.0\n",
      "Compound1632       2.0  0.0  0.0  0.0  0.0  0.0  0.0  0.0  0.0  0.0\n",
      "Compound964        0.0  0.0  1.0  0.0  0.0  0.0  0.0  0.0  0.0  0.0\n",
      "Compound1420       0.0  0.0  1.0  0.0  1.0  0.0  0.0  0.0  0.0  0.0\n",
      "Compound1973       0.0  1.0  0.0  0.0  0.0  0.0  0.0  0.0  0.0  0.0\n",
      "Compound1170       0.0  0.0  0.0  1.0  1.0  0.0  0.0  0.0  0.0  0.0\n",
      "ProteinComplex330  0.0  0.0  0.0  0.0  0.0  1.0  0.0  0.0  0.0  0.0\n",
      "ProteinComplex329  0.0  0.0  0.0  0.0  1.0  0.0  0.0  0.0  0.0  0.0\n",
      "Compound1104       0.0  0.0  0.0  0.0  0.0  0.0  0.0  0.0  0.0  0.0\n",
      "Compound1034       0.0  0.0  0.0  0.0  0.0  0.0  0.0  0.0  0.0  0.0\n",
      "Compound1860       0.0  1.0  0.0  0.0  0.0  0.0  0.0  0.0  0.0  0.0\n",
      "Compound1957       0.0  0.0  0.0  0.0  0.0  0.0  0.0  0.0  0.0  1.0\n",
      "Compound1065       1.0  0.0  0.0  0.0  0.0  0.0  0.0  0.0  0.0  0.0\n",
      "Compound165        0.0  0.0  0.0  0.0  0.0  1.0  1.0  0.0  0.0  0.0\n",
      "ProteinComplex328  0.0  0.0  0.0  1.0  0.0  0.0  0.0  0.0  0.0  0.0\n",
      "Compound2109       0.0  0.0  0.0  0.0  0.0  0.0  0.0  0.0  0.0  0.0\n",
      "ProteinComplex327  1.0  0.0  0.0  0.0  0.0  0.0  0.0  0.0  0.0  0.0\n",
      "Compound414        0.0  0.0  0.0  1.0  0.0  1.0  0.0  0.0  0.0  0.0\n",
      "Productive stoichimetric matrix\n",
      "                     0    1    2    3    4    5    6    7    8    9\n",
      "Compound170        0.0  0.0  0.0  1.0  0.0  0.0  0.0  0.0  0.0  0.0\n",
      "ProteinComplex320  0.0  0.0  1.0  0.0  0.0  0.0  0.0  0.0  0.0  0.0\n",
      "Compound32         0.0  0.0  1.0  0.0  0.0  0.0  0.0  0.0  0.0  0.0\n",
      "Compound1632       0.0  1.0  0.0  0.0  0.0  0.0  0.0  0.0  0.0  0.0\n",
      "Compound964        0.0  0.0  0.0  1.0  0.0  0.0  0.0  0.0  0.0  0.0\n",
      "Compound1420       2.0  0.0  0.0  0.0  0.0  0.0  0.0  0.0  0.0  0.0\n",
      "Compound1973       0.0  0.0  0.0  0.0  0.0  0.0  0.0  1.0  0.0  0.0\n",
      "Compound1170       0.0  0.0  1.0  0.0  0.0  1.0  0.0  0.0  0.0  0.0\n",
      "ProteinComplex330  0.0  0.0  0.0  0.0  0.0  1.0  0.0  0.0  0.0  0.0\n",
      "ProteinComplex329  0.0  0.0  0.0  0.0  1.0  0.0  0.0  0.0  0.0  0.0\n",
      "Compound1104       0.0  0.0  0.0  0.0  1.0  0.0  0.0  0.0  0.0  0.0\n",
      "Compound1034       0.0  0.0  0.0  0.0  0.0  1.0  0.0  0.0  0.0  0.0\n",
      "Compound1860       2.0  0.0  0.0  0.0  0.0  0.0  0.0  0.0  0.0  0.0\n",
      "Compound1957       0.0  0.0  0.0  0.0  0.0  0.0  1.0  0.0  0.0  0.0\n",
      "Compound1065       0.0  0.0  0.0  0.0  0.0  0.0  0.0  0.0  0.0  0.0\n",
      "Compound165        0.0  0.0  0.0  0.0  1.0  0.0  0.0  0.0  1.0  0.0\n",
      "ProteinComplex328  0.0  0.0  0.0  1.0  0.0  0.0  0.0  0.0  0.0  0.0\n",
      "Compound2109       0.0  1.0  0.0  0.0  0.0  0.0  0.0  0.0  0.0  0.0\n",
      "ProteinComplex327  1.0  0.0  0.0  0.0  0.0  0.0  0.0  0.0  0.0  0.0\n",
      "Compound414        0.0  0.0  0.0  0.0  0.0  0.0  0.0  0.0  0.0  0.0\n",
      "Stoichiometric Matrix\n",
      "                     0    1    2    3    4    5    6    7    8    9\n",
      "Compound170        0.0  0.0  0.0  1.0  0.0  0.0  0.0  0.0  0.0  0.0\n",
      "ProteinComplex320  0.0  0.0  0.0  0.0  0.0  0.0  0.0  0.0  0.0  0.0\n",
      "Compound32         0.0  0.0  1.0  0.0  0.0  0.0  0.0  0.0  0.0  0.0\n",
      "Compound1632      -2.0  1.0  0.0  0.0  0.0  0.0  0.0  0.0  0.0  0.0\n",
      "Compound964        0.0  0.0 -1.0  1.0  0.0  0.0  0.0  0.0  0.0  0.0\n",
      "Compound1420       2.0  0.0 -1.0  0.0 -1.0  0.0  0.0  0.0  0.0  0.0\n",
      "Compound1973       0.0 -1.0  0.0  0.0  0.0  0.0  0.0  1.0  0.0  0.0\n",
      "Compound1170       0.0  0.0  1.0 -1.0 -1.0  1.0  0.0  0.0  0.0  0.0\n",
      "ProteinComplex330  0.0  0.0  0.0  0.0  0.0  0.0  0.0  0.0  0.0  0.0\n",
      "ProteinComplex329  0.0  0.0  0.0  0.0  0.0  0.0  0.0  0.0  0.0  0.0\n",
      "Compound1104       0.0  0.0  0.0  0.0  1.0  0.0  0.0  0.0  0.0  0.0\n",
      "Compound1034       0.0  0.0  0.0  0.0  0.0  1.0  0.0  0.0  0.0  0.0\n",
      "Compound1860       2.0 -1.0  0.0  0.0  0.0  0.0  0.0  0.0  0.0  0.0\n",
      "Compound1957       0.0  0.0  0.0  0.0  0.0  0.0  1.0  0.0  0.0 -1.0\n",
      "Compound1065      -1.0  0.0  0.0  0.0  0.0  0.0  0.0  0.0  0.0  0.0\n",
      "Compound165        0.0  0.0  0.0  0.0  1.0 -1.0 -1.0  0.0  1.0  0.0\n",
      "ProteinComplex328  0.0  0.0  0.0  0.0  0.0  0.0  0.0  0.0  0.0  0.0\n",
      "Compound2109       0.0  1.0  0.0  0.0  0.0  0.0  0.0  0.0  0.0  0.0\n",
      "ProteinComplex327  0.0  0.0  0.0  0.0  0.0  0.0  0.0  0.0  0.0  0.0\n",
      "Compound414        0.0  0.0  0.0 -1.0  0.0 -1.0  0.0  0.0  0.0  0.0\n",
      "Inflow species\n",
      "['Compound1957']\n",
      "Outflow species\n",
      "['Compound1973' 'Compound165']\n"
     ]
    }
   ],
   "source": [
    "print(\"Vector of species\")\n",
    "print(RN.sp)\n",
    "print(\"Vector of species names, in case of an initialization form an smbl file result can be different\")\n",
    "print(RN.sp_n)\n",
    "print(\"Display species\")\n",
    "print(RN.sin_print_sp())\n",
    "print(\"Display reactions\")\n",
    "print(RN.sin_print_r())\n",
    "print(\"Reactive stochiometric matrix\")\n",
    "print(RN.mr)\n",
    "print(\"Productive stoichimetric matrix\")\n",
    "print(RN.mp)\n",
    "print(\"Stoichiometric Matrix\")\n",
    "print(RN.mp-RN.mr)\n",
    "print(\"Inflow species\")\n",
    "print(RN.is_inflow(RN.sp,set_type=True))\n",
    "print(\"Outflow species\")\n",
    "print(RN.is_outflow(RN.sp,set_type=True))"
   ]
  },
  {
   "cell_type": "markdown",
   "id": "f93bace0",
   "metadata": {},
   "source": [
    "The functions `sin_print_sp()` and `sin_print_r()` can receive as argument `np.arrays` of the elements to be displayed. The `is_inflow()` and `is_outflow()` functions, the `set_type=True` argument is necessary the function display corresponds to an `np.array object` and therefore understandable. \n",
    "\n",
    "There are also functions to visualize the network as well as the stoichiometric matrix:"
   ]
  },
  {
   "cell_type": "code",
   "execution_count": 5,
   "id": "58363ee3",
   "metadata": {},
   "outputs": [
    {
     "data": {
      "text/plain": [
       "<Figure size 720x360 with 0 Axes>"
      ]
     },
     "metadata": {},
     "output_type": "display_data"
    },
    {
     "data": {
      "image/png": "[encoded data removed]",
      "text/plain": [
       "<Figure size 288x576 with 1 Axes>"
      ]
     },
     "metadata": {
      "needs_background": "light"
     },
     "output_type": "display_data"
    }
   ],
   "source": [
    "RN.plot_S()\n",
    "nt=RN.display_RN()\n",
    "nt.show(\"RN.html\")"
   ]
  }
 ],
 "metadata": {
  "kernelspec": {
   "display_name": "Python 3 (ipykernel)",
   "language": "python",
   "name": "python3"
  },
  "language_info": {
   "codemirror_mode": {
    "name": "ipython",
    "version": 3
   },
   "file_extension": ".py",
   "mimetype": "text/x-python",
   "name": "python",
   "nbconvert_exporter": "python",
   "pygments_lexer": "ipython3",
   "version": "3.9.2"
  }
 },
 "nbformat": 4,
 "nbformat_minor": 5
}
