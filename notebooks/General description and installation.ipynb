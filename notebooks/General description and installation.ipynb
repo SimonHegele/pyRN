{
 "cells": [
  {
   "cell_type": "markdown",
   "id": "1b94a59f",
   "metadata": {},
   "source": [
    "# Description\n",
    "PyRN is a library of reaction networks that allows not only to obtain properties of reaction networks, but also to study their evolution. It was created for the purpose of studying the goal-directedness of reaction networks. \n",
    "\n",
    "This documents will show the use of this library. For this purpose, it is divided into several subdocuments, each of which describes a functional part of the library:\n",
    "\n",
    "- Basic use of library.ipynb (pyRN object initialization and basic properties of a reaction network).\n",
    "- Random Network Generation.ipynb (creation of random networks)\n",
    "- Simulator and Random Walks.ipynb (Simulations and random walks by mass action law)\n"
   ]
  },
  {
   "cell_type": "markdown",
   "id": "6848a053",
   "metadata": {},
   "source": [
    "## Installation\n",
    "The installation of the library can be done by downloading it from the repository on the page where it is hosted:\n",
    "\n",
    "[https://github.com/pmaldona/pyRN](https://github.com/pmaldona/pyRN)\n",
    "\n",
    "This can be done by clicking the <span style=\"color:green\">*Code*</span> tab, and the clicking *Download zip*.\n",
    "\n",
    "Another alternative can be done by cloning the repository using git:\n",
    "\n",
    "    $ git clone https://github.com/pmaldona/pyRN\n",
    "\n",
    "Once downloaded the library can be locally installed using the following command in the path where the library was downloaded or unzipped:\n",
    "\n",
    "    $ python pip install .\n",
    "\n",
    "### Linux requirements\n",
    "pyRN require the installation of the lxml library, in Debian/Ubuntu can be installed by:\n",
    "\n",
    "    $ sudo apt-get install libxml2-dev libxslt-dev python-dev\n",
    "\n",
    "Please refer to https://lxml.de/installation.html for other systems.\n",
    "\n",
    "It also require some packages to run the pypoman library, in Debian/Ubuntu can be installed by:\n",
    "\n",
    "    $ sudo apt-get install cython libglpk-dev\n",
    "    \n",
    "## Windows\n",
    "\n",
    "The lxml library requires certain binaries that can be downloaded and then installed, these can be obtained from the following link:\n",
    "\n",
    "[http://www.lfd.uci.edu/~gohlke/pythonlibs/#lxml](http://www.lfd.uci.edu/~gohlke/pythonlibs/#lxml)\n",
    "\n",
    "## MacOS-X\n",
    "\n",
    "On MacOS-X, use the following to build the source distribution, and make sure you have a working Internet connection, as this will download libxml2 and libxslt in order to build them:\n",
    "\n",
    "    STATIC_DEPS=true sudo pip install lxml\n",
    "    "
   ]
  }
 ],
 "metadata": {
  "kernelspec": {
   "display_name": "Python 3 (ipykernel)",
   "language": "python",
   "name": "python3"
  },
  "language_info": {
   "codemirror_mode": {
    "name": "ipython",
    "version": 3
   },
   "file_extension": ".py",
   "mimetype": "text/x-python",
   "name": "python",
   "nbconvert_exporter": "python",
   "pygments_lexer": "ipython3",
   "version": "3.9.2"
  }
 },
 "nbformat": 4,
 "nbformat_minor": 5
}
