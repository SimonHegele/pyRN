{
 "cells": [
  {
   "cell_type": "markdown",
   "id": "20b41c75",
   "metadata": {},
   "source": [
    "# Simple Transitions Calculation\n",
    "\n",
    "The `RNSRW` module not only enables the calculation of simple random walks, but also allows the estimation of all possible transitions and thus the calculation of global and local resilience by means of a Markovian estimation. This calculation also allows to generate probability weighting on these transitions, as well as on the perturbations, so that favoring one over another can change the resilience. Thus, it is only necessary to calculate the structure of simple transitions, so that by imposing probabilities on it, different resilience frameworks can be obtained. \n"
   ]
  },
  {
   "cell_type": "code",
   "execution_count": 1,
   "id": "e6d35d95",
   "metadata": {},
   "outputs": [
    {
     "name": "stdout",
     "output_type": "stream",
     "text": [
      "\r\n",
      "\u001b[1m[\u001b[0m\u001b[34;49mnotice\u001b[0m\u001b[1;39;49m]\u001b[0m\u001b[39;49m A new release of pip available: \u001b[0m\u001b[31;49m22.3.1\u001b[0m\u001b[39;49m -> \u001b[0m\u001b[32;49m23.0\u001b[0m\r\n",
      "\u001b[1m[\u001b[0m\u001b[34;49mnotice\u001b[0m\u001b[1;39;49m]\u001b[0m\u001b[39;49m To update, run: \u001b[0m\u001b[32;49mpython3 -m pip install --upgrade pip\u001b[0m\r\n"
     ]
    }
   ],
   "source": [
    "import sys\n",
    "!{sys.executable} -m pip install ../. --quiet --user #installation of library in local enviorment\n",
    "from pyRN import pyRN\n",
    "import numpy as np"
   ]
  },
  {
   "cell_type": "markdown",
   "id": "cd6f763d",
   "metadata": {},
   "source": [
    "Once a network has been initialized using the First, it is necessary to create a reaction network, which can be obtained in different ways. One of them corresponds open an existing network text file by use of the function `setFromText`."
   ]
  },
  {
   "cell_type": "code",
   "execution_count": 2,
   "id": "18814cbe",
   "metadata": {},
   "outputs": [],
   "source": [
    "RN=pyRN.setFromText(\"../networks/rn_test.txt\")"
   ]
  },
  {
   "cell_type": "markdown",
   "id": "09817ab1",
   "metadata": {},
   "source": [
    "As the function (`setSimpleRw()`). It is necesary to have a list of organizations, this cab ne obteain by calculatinh the synergic structure."
   ]
  },
  {
   "cell_type": "code",
   "execution_count": 3,
   "id": "af0ccacf",
   "metadata": {},
   "outputs": [
    {
     "name": "stdout",
     "output_type": "stream",
     "text": [
      "level:  1 from  6 , node:  1  from  2\n",
      "level:  1 from  6 , node:  2  from  2\n",
      "level:  2 from  6 , node:  1  from  2\n",
      "level:  2 from  6 , node:  2  from  2\n",
      "level:  3 from  6 , node:  1  from  1\n",
      "level:  4 from  6 , node:  1  from  1\n",
      "level:  6 from  6 , node:  1  from  1\n"
     ]
    },
    {
     "data": {
      "text/plain": [
       "29"
      ]
     },
     "execution_count": 3,
     "metadata": {},
     "output_type": "execute_result"
    }
   ],
   "source": [
    "# Calculation of the generators\n",
    "RN.setGenerators()\n",
    "# Calculation of the Closed Reactive Strucutre\n",
    "RN.setSynStr()"
   ]
  },
  {
   "cell_type": "markdown",
   "id": "a75be7a1",
   "metadata": {},
   "source": [
    "Whit the latter we are in position to calculate the simple transition dictonary. It consists of a dictionary where the first key correspond to the inital state and the nested key to pertubation set. Each element of this dictionary consists of a list of dictionaries. Each diconary has his first component as the final perturbed state (closure of (if `closure=True`) inital state after adding or resting species or generators (& bitarray operation between perturbation and init state)) , and the second to the convergent state (organization below). This dictionary can be obtained by means of the function `setSimpleTransDict` that receives as inputs:\n",
    "\n",
    "- `orglist` : `list` of `bitarrays`.\n",
    "    list of organization as species.\n",
    "- `pert_type` : `string`.\n",
    "    Type of perturbation, can be `\"species\"` they are considered as species, or `\"generators\"` if they are considered generators. The default values is `\"species\"`.\n",
    "- `pert_size` : `int`, optional\n",
    "    Maximum size of the perturbation (generators). The default is 4.\n",
    "- `conn` : `bool`, optional\n",
    "    If True only perturbations with connected generators, if False with any. The default is True.\n",
    "- `closure` : bool, optional\n",
    "    If True closure of the pertrubartion are considered, if False perturbation as any combiantion of generators. The default is True."
   ]
  },
  {
   "cell_type": "code",
   "execution_count": 4,
   "id": "76e4ba4c",
   "metadata": {},
   "outputs": [
    {
     "ename": "TypeError",
     "evalue": "'bitarray.bitarray' object cannot be interpreted as an integer",
     "output_type": "error",
     "traceback": [
      "\u001b[0;31m---------------------------------------------------------------------------\u001b[0m",
      "\u001b[0;31mTypeError\u001b[0m                                 Traceback (most recent call last)",
      "\u001b[0;32m/tmp/ipykernel_16573/2206829299.py\u001b[0m in \u001b[0;36m<cell line: 2>\u001b[0;34m()\u001b[0m\n\u001b[1;32m      1\u001b[0m \u001b[0mRN\u001b[0m\u001b[0;34m.\u001b[0m\u001b[0msetSimpleTransDict\u001b[0m\u001b[0;34m(\u001b[0m\u001b[0morglist\u001b[0m\u001b[0;34m=\u001b[0m\u001b[0mRN\u001b[0m\u001b[0;34m.\u001b[0m\u001b[0mSynStrOrgListBtArray\u001b[0m\u001b[0;34m,\u001b[0m\u001b[0mpert_type\u001b[0m\u001b[0;34m=\u001b[0m\u001b[0;34m\"generators\"\u001b[0m\u001b[0;34m,\u001b[0m\u001b[0mpert_size\u001b[0m\u001b[0;34m=\u001b[0m\u001b[0;36m4\u001b[0m\u001b[0;34m,\u001b[0m\u001b[0mconn\u001b[0m\u001b[0;34m=\u001b[0m\u001b[0;32mTrue\u001b[0m\u001b[0;34m,\u001b[0m\u001b[0mclosure\u001b[0m\u001b[0;34m=\u001b[0m\u001b[0;32mTrue\u001b[0m\u001b[0;34m)\u001b[0m\u001b[0;34m\u001b[0m\u001b[0;34m\u001b[0m\u001b[0m\n\u001b[0;32m----> 2\u001b[0;31m \u001b[0mRN\u001b[0m\u001b[0;34m.\u001b[0m\u001b[0msetSimpleTransDict\u001b[0m\u001b[0;34m(\u001b[0m\u001b[0morglist\u001b[0m\u001b[0;34m=\u001b[0m\u001b[0mRN\u001b[0m\u001b[0;34m.\u001b[0m\u001b[0mSynStrOrgListBtArray\u001b[0m\u001b[0;34m,\u001b[0m\u001b[0mpert_type\u001b[0m\u001b[0;34m=\u001b[0m\u001b[0;34m\"species\"\u001b[0m\u001b[0;34m,\u001b[0m\u001b[0mpert_size\u001b[0m\u001b[0;34m=\u001b[0m\u001b[0;36m4\u001b[0m\u001b[0;34m,\u001b[0m\u001b[0mconn\u001b[0m\u001b[0;34m=\u001b[0m\u001b[0;32mTrue\u001b[0m\u001b[0;34m,\u001b[0m\u001b[0mclosure\u001b[0m\u001b[0;34m=\u001b[0m\u001b[0;32mTrue\u001b[0m\u001b[0;34m)\u001b[0m\u001b[0;34m\u001b[0m\u001b[0;34m\u001b[0m\u001b[0m\n\u001b[0m",
      "\u001b[0;32m~/.local/lib/python3.9/site-packages/pyRN/RNSRW.py\u001b[0m in \u001b[0;36msetSimpleTransDict\u001b[0;34m(self, orglist, pert_type, pert_size, conn, closure, include_empty_set)\u001b[0m\n\u001b[1;32m   1328\u001b[0m                             \u001b[0mcounter\u001b[0m\u001b[0;34m+=\u001b[0m\u001b[0;36m1\u001b[0m\u001b[0;34m\u001b[0m\u001b[0;34m\u001b[0m\u001b[0m\n\u001b[1;32m   1329\u001b[0m                 \u001b[0;31m# creating the class variable\u001b[0m\u001b[0;34m\u001b[0m\u001b[0;34m\u001b[0m\u001b[0;34m\u001b[0m\u001b[0m\n\u001b[0;32m-> 1330\u001b[0;31m             \u001b[0morgs_df\u001b[0m\u001b[0;34m=\u001b[0m\u001b[0morgs_df\u001b[0m\u001b[0;34m.\u001b[0m\u001b[0mapply\u001b[0m\u001b[0;34m(\u001b[0m\u001b[0mfbt\u001b[0m\u001b[0;34m)\u001b[0m\u001b[0;34m\u001b[0m\u001b[0;34m\u001b[0m\u001b[0m\n\u001b[0m\u001b[1;32m   1331\u001b[0m             \u001b[0mself\u001b[0m\u001b[0;34m.\u001b[0m\u001b[0mSimpleTransSpDict\u001b[0m\u001b[0;34m=\u001b[0m\u001b[0morgs_dict\u001b[0m\u001b[0;34m\u001b[0m\u001b[0;34m\u001b[0m\u001b[0m\n\u001b[1;32m   1332\u001b[0m             \u001b[0mself\u001b[0m\u001b[0;34m.\u001b[0m\u001b[0mSimpleTransSpDf\u001b[0m\u001b[0;34m=\u001b[0m\u001b[0morgs_df\u001b[0m\u001b[0;34m\u001b[0m\u001b[0;34m\u001b[0m\u001b[0m\n",
      "\u001b[0;32m~/.local/lib/python3.9/site-packages/pandas/core/frame.py\u001b[0m in \u001b[0;36mapply\u001b[0;34m(self, func, axis, raw, result_type, args, **kwargs)\u001b[0m\n\u001b[1;32m   9553\u001b[0m             \u001b[0mkwargs\u001b[0m\u001b[0;34m=\u001b[0m\u001b[0mkwargs\u001b[0m\u001b[0;34m,\u001b[0m\u001b[0;34m\u001b[0m\u001b[0;34m\u001b[0m\u001b[0m\n\u001b[1;32m   9554\u001b[0m         )\n\u001b[0;32m-> 9555\u001b[0;31m         \u001b[0;32mreturn\u001b[0m \u001b[0mop\u001b[0m\u001b[0;34m.\u001b[0m\u001b[0mapply\u001b[0m\u001b[0;34m(\u001b[0m\u001b[0;34m)\u001b[0m\u001b[0;34m.\u001b[0m\u001b[0m__finalize__\u001b[0m\u001b[0;34m(\u001b[0m\u001b[0mself\u001b[0m\u001b[0;34m,\u001b[0m \u001b[0mmethod\u001b[0m\u001b[0;34m=\u001b[0m\u001b[0;34m\"apply\"\u001b[0m\u001b[0;34m)\u001b[0m\u001b[0;34m\u001b[0m\u001b[0;34m\u001b[0m\u001b[0m\n\u001b[0m\u001b[1;32m   9556\u001b[0m \u001b[0;34m\u001b[0m\u001b[0m\n\u001b[1;32m   9557\u001b[0m     def applymap(\n",
      "\u001b[0;32m~/.local/lib/python3.9/site-packages/pandas/core/apply.py\u001b[0m in \u001b[0;36mapply\u001b[0;34m(self)\u001b[0m\n\u001b[1;32m    744\u001b[0m             \u001b[0;32mreturn\u001b[0m \u001b[0mself\u001b[0m\u001b[0;34m.\u001b[0m\u001b[0mapply_raw\u001b[0m\u001b[0;34m(\u001b[0m\u001b[0;34m)\u001b[0m\u001b[0;34m\u001b[0m\u001b[0;34m\u001b[0m\u001b[0m\n\u001b[1;32m    745\u001b[0m \u001b[0;34m\u001b[0m\u001b[0m\n\u001b[0;32m--> 746\u001b[0;31m         \u001b[0;32mreturn\u001b[0m \u001b[0mself\u001b[0m\u001b[0;34m.\u001b[0m\u001b[0mapply_standard\u001b[0m\u001b[0;34m(\u001b[0m\u001b[0;34m)\u001b[0m\u001b[0;34m\u001b[0m\u001b[0;34m\u001b[0m\u001b[0m\n\u001b[0m\u001b[1;32m    747\u001b[0m \u001b[0;34m\u001b[0m\u001b[0m\n\u001b[1;32m    748\u001b[0m     \u001b[0;32mdef\u001b[0m \u001b[0magg\u001b[0m\u001b[0;34m(\u001b[0m\u001b[0mself\u001b[0m\u001b[0;34m)\u001b[0m\u001b[0;34m:\u001b[0m\u001b[0;34m\u001b[0m\u001b[0;34m\u001b[0m\u001b[0m\n",
      "\u001b[0;32m~/.local/lib/python3.9/site-packages/pandas/core/apply.py\u001b[0m in \u001b[0;36mapply_standard\u001b[0;34m(self)\u001b[0m\n\u001b[1;32m    871\u001b[0m \u001b[0;34m\u001b[0m\u001b[0m\n\u001b[1;32m    872\u001b[0m     \u001b[0;32mdef\u001b[0m \u001b[0mapply_standard\u001b[0m\u001b[0;34m(\u001b[0m\u001b[0mself\u001b[0m\u001b[0;34m)\u001b[0m\u001b[0;34m:\u001b[0m\u001b[0;34m\u001b[0m\u001b[0;34m\u001b[0m\u001b[0m\n\u001b[0;32m--> 873\u001b[0;31m         \u001b[0mresults\u001b[0m\u001b[0;34m,\u001b[0m \u001b[0mres_index\u001b[0m \u001b[0;34m=\u001b[0m \u001b[0mself\u001b[0m\u001b[0;34m.\u001b[0m\u001b[0mapply_series_generator\u001b[0m\u001b[0;34m(\u001b[0m\u001b[0;34m)\u001b[0m\u001b[0;34m\u001b[0m\u001b[0;34m\u001b[0m\u001b[0m\n\u001b[0m\u001b[1;32m    874\u001b[0m \u001b[0;34m\u001b[0m\u001b[0m\n\u001b[1;32m    875\u001b[0m         \u001b[0;31m# wrap results\u001b[0m\u001b[0;34m\u001b[0m\u001b[0;34m\u001b[0m\u001b[0;34m\u001b[0m\u001b[0m\n",
      "\u001b[0;32m~/.local/lib/python3.9/site-packages/pandas/core/apply.py\u001b[0m in \u001b[0;36mapply_series_generator\u001b[0;34m(self)\u001b[0m\n\u001b[1;32m    887\u001b[0m             \u001b[0;32mfor\u001b[0m \u001b[0mi\u001b[0m\u001b[0;34m,\u001b[0m \u001b[0mv\u001b[0m \u001b[0;32min\u001b[0m \u001b[0menumerate\u001b[0m\u001b[0;34m(\u001b[0m\u001b[0mseries_gen\u001b[0m\u001b[0;34m)\u001b[0m\u001b[0;34m:\u001b[0m\u001b[0;34m\u001b[0m\u001b[0;34m\u001b[0m\u001b[0m\n\u001b[1;32m    888\u001b[0m                 \u001b[0;31m# ignore SettingWithCopy here in case the user mutates\u001b[0m\u001b[0;34m\u001b[0m\u001b[0;34m\u001b[0m\u001b[0;34m\u001b[0m\u001b[0m\n\u001b[0;32m--> 889\u001b[0;31m                 \u001b[0mresults\u001b[0m\u001b[0;34m[\u001b[0m\u001b[0mi\u001b[0m\u001b[0;34m]\u001b[0m \u001b[0;34m=\u001b[0m \u001b[0mself\u001b[0m\u001b[0;34m.\u001b[0m\u001b[0mf\u001b[0m\u001b[0;34m(\u001b[0m\u001b[0mv\u001b[0m\u001b[0;34m)\u001b[0m\u001b[0;34m\u001b[0m\u001b[0;34m\u001b[0m\u001b[0m\n\u001b[0m\u001b[1;32m    890\u001b[0m                 \u001b[0;32mif\u001b[0m \u001b[0misinstance\u001b[0m\u001b[0;34m(\u001b[0m\u001b[0mresults\u001b[0m\u001b[0;34m[\u001b[0m\u001b[0mi\u001b[0m\u001b[0;34m]\u001b[0m\u001b[0;34m,\u001b[0m \u001b[0mABCSeries\u001b[0m\u001b[0;34m)\u001b[0m\u001b[0;34m:\u001b[0m\u001b[0;34m\u001b[0m\u001b[0;34m\u001b[0m\u001b[0m\n\u001b[1;32m    891\u001b[0m                     \u001b[0;31m# If we have a view on v, we need to make a copy because\u001b[0m\u001b[0;34m\u001b[0m\u001b[0;34m\u001b[0m\u001b[0;34m\u001b[0m\u001b[0m\n",
      "\u001b[0;31mTypeError\u001b[0m: 'bitarray.bitarray' object cannot be interpreted as an integer"
     ]
    }
   ],
   "source": [
    "RN.setSimpleTransDict(orglist=RN.SynStrOrgListBtArray,pert_type=\"generators\",pert_size=4,conn=True,closure=True)\n",
    "RN.setSimpleTransDict(orglist=RN.SynStrOrgListBtArray,pert_type=\"species\",pert_size=4,conn=True,closure=True)"
   ]
  },
  {
   "cell_type": "markdown",
   "id": "5cb3b5c8",
   "metadata": {},
   "source": [
    "This function creates a class member dictonary `setSimpleTransGDict` for the generators if the `part_type=\"generators\"` option is used and create the dictonary `setSimpleTransSpDict` the `part_type=\"species\"` is used."
   ]
  },
  {
   "cell_type": "code",
   "execution_count": null,
   "id": "4bfde3f8",
   "metadata": {},
   "outputs": [],
   "source": [
    "RN.SimpleTransGDict"
   ]
  },
  {
   "cell_type": "code",
   "execution_count": null,
   "id": "eb4f245e",
   "metadata": {},
   "outputs": [],
   "source": [
    "RN.SimpleTransSpDict"
   ]
  },
  {
   "cell_type": "markdown",
   "id": "287b40d2",
   "metadata": {},
   "source": [
    "The function also generates dataframes with same information, for an esasier access."
   ]
  },
  {
   "cell_type": "code",
   "execution_count": null,
   "id": "8d4520f1",
   "metadata": {},
   "outputs": [],
   "source": [
    "RN.SimpleTransGDf"
   ]
  },
  {
   "cell_type": "code",
   "execution_count": null,
   "id": "dbceb50c",
   "metadata": {},
   "outputs": [],
   "source": [
    "RN.SimpleTransSpDf"
   ]
  },
  {
   "cell_type": "markdown",
   "id": "ee74353c",
   "metadata": {},
   "source": [
    "It is worth mentioning that for a brute force search, i.e. all possible perturbations, the options `pert_size=len(RN.SpidArray)` in case of `part_type=\"species\"` or `pert_size=len(RN.GInBListBt[0])` in case of `part_type=\"generators\"`, with adition `conn=False` option. "
   ]
  },
  {
   "cell_type": "code",
   "execution_count": null,
   "id": "4212b206",
   "metadata": {},
   "outputs": [],
   "source": [
    "from bitarray import frozenbitarray as fbt\n",
    "RN.SimpleTransSpDf['initial state'].apply(fbt).unique()"
   ]
  },
  {
   "cell_type": "code",
   "execution_count": null,
   "id": "af9ef2bc",
   "metadata": {},
   "outputs": [],
   "source": [
    "RN.SimpleTransSpDf['convergent state'].apply(fbt).unique()"
   ]
  }
 ],
 "metadata": {
  "kernelspec": {
   "display_name": "Python 3 (ipykernel)",
   "language": "python",
   "name": "python3"
  },
  "language_info": {
   "codemirror_mode": {
    "name": "ipython",
    "version": 3
   },
   "file_extension": ".py",
   "mimetype": "text/x-python",
   "name": "python",
   "nbconvert_exporter": "python",
   "pygments_lexer": "ipython3",
   "version": "3.9.2"
  }
 },
 "nbformat": 4,
 "nbformat_minor": 5
}
