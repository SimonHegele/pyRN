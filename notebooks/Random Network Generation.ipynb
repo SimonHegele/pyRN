{
 "cells": [
  {
   "cell_type": "markdown",
   "id": "c7923e34",
   "metadata": {},
   "source": [
    "# Random Network Generation\n",
    "\n",
    "## Description\n",
    "This module (RNIRG) of the pyRN library, allows to generate random networks. This module consists of several functions that allow to generate or modify networks with different properties. In this section we will explain the use of the functions to generate random networks, however to understand more in depth how the parameters affect the stability of the network, it may be interesting to read the following document:\n",
    "\n",
    "[Convergence of large reaction networks](https://docs.google.com/document/d/1Pu_CYpALlAbwS__qisbcChGaipbjrNUbnJADZLfdBww/edit)\n",
    "\n",
    "Fist we need to import our library:"
   ]
  },
  {
   "cell_type": "code",
   "execution_count": 1,
   "id": "827328d6",
   "metadata": {},
   "outputs": [],
   "source": [
    "import sys\n",
    "!{sys.executable} -m pip install ../. --quiet --user #installation of library in local enviorment\n",
    "from pyRN import pyRN"
   ]
  },
  {
   "cell_type": "markdown",
   "id": "14c9833d",
   "metadata": {},
   "source": [
    "## Initialization of a random reacition networks\n",
    "\n",
    "A random reaction network can be initialized using the function `setRandomgeneratedNoInflow()`. This initialization contains multiple parameters:\n",
    "\n",
    "- `Nr`, number of reactions (>1). \n",
    "- `Ns` number of species (>1)\n",
    "- `dist` is a logarithmic scaled distribution in the range [-1,1] representing the species selection locality\n",
    "- `pr` and `pp` are a logarithmic scale penalty for the repeated use of species such as\n",
    "- `extra` corresponds to the Ns proportion of additional added species, which do not add new reactions and therefore are added to the existing reactions. This is in order to bind the network.  \n",
    "\n",
    "Thus a minimal reaction network is randomly created where each reaction has one reactant and one product and each species is used at least once as a reactant and once as a product:"
   ]
  },
  {
   "cell_type": "code",
   "execution_count": 2,
   "id": "4e819e3c",
   "metadata": {},
   "outputs": [],
   "source": [
    "RN=pyRN.setRandomgeneratedNoInflow(Nr=12,Ns=12,extra=.4, dist=lambda x: x*0+1, pr=0, pp=0)"
   ]
  },
  {
   "cell_type": "markdown",
   "id": "9f2a2342",
   "metadata": {},
   "source": [
    "The network can be displayed using the `getRnDisplayPv()` function."
   ]
  },
  {
   "cell_type": "code",
   "execution_count": 3,
   "id": "fad2190f",
   "metadata": {},
   "outputs": [],
   "source": [
    "nt=RN.getRnDisplayPv() #display of the network\n",
    "nt.show(\"RG_0.html\")"
   ]
  },
  {
   "cell_type": "markdown",
   "id": "c3b6e30f",
   "metadata": {},
   "source": [
    "When creating the random network, unlike the cases when it is initialized from a file, it does not present a file where it is described. For this there is a function called `saveToText()`, this function saves the network in a text file that corresponds to the function argument, in the same text format used by the `setFromText()` function."
   ]
  },
  {
   "cell_type": "code",
   "execution_count": null,
   "id": "49855431",
   "metadata": {},
   "outputs": [],
   "source": [
    "RN.saveToText(\"../networks/RandGen.txt\")"
   ]
  },
  {
   "cell_type": "markdown",
   "id": "9fb188d9",
   "metadata": {},
   "source": [
    "By using the `setExtraRandomgenerated()` function, additional species can be added for agglomeration purposes. It is understood that the added species are only part of existing reactions and no new reactions are created. The parameters of these functions correspond:\n",
    "\n",
    "- `Nse` the number of extra species added as reactants and products\n",
    "- `p` percentage of number of existing species added as reactants and products, if `Nse` is not initialized\n",
    "- `extra` the number of reaction where the species will be added as reactants and products\n",
    "- `m` percentage of the number of total reaction where species will be added as reactants or products, if `extra` is not initialized\n",
    "- `l` is the label of the extra added species"
   ]
  },
  {
   "cell_type": "code",
   "execution_count": 4,
   "id": "bc02d8e5",
   "metadata": {},
   "outputs": [],
   "source": [
    "RN.setExtraRandomgenerated(p=.1,m=2,Nse=None,extra=None,l=\"x\")\n",
    "nt=RN.getRnDisplayPv() #display of the network\n",
    "nt.show(\"RG_1.html\")"
   ]
  },
  {
   "cell_type": "markdown",
   "id": "ad9e0834",
   "metadata": {},
   "source": [
    "Species for inflow and outflow can also be added using the `setExtraRandomgeneratedInflow()` and `setExtraRandomgeneratedOutflow()` functions respectively. These functions add species as inflow/outflow) as a function of an `setExtraRandomgenerated()` percentage of the total number of species in the network."
   ]
  },
  {
   "cell_type": "code",
   "execution_count": 5,
   "id": "59b18c4f",
   "metadata": {},
   "outputs": [],
   "source": [
    "RN.setExtraRandomgeneratedInflow(extra=0.1)\n",
    "RN.setExtraRandomgeneratedOutflow(extra=0.1)\n",
    "nt=RN.getRnDisplayPv()\n",
    "nt.show(\"RG_2.html\")"
   ]
  },
  {
   "cell_type": "markdown",
   "id": "59136561",
   "metadata": {},
   "source": [
    "Finally, there is a function that combines all of the above factors (`rand_gen_whit_inflow()`), a random network from the `setRandomgeneratedWhitInflow` function is generated in the first instance and then inflows and ouflows are aggregated. Thus the inputs of the `rand_gen_whit_inflow()` function are transitive of `rand_gen_no_inflow()`, as well as transitive inflow and outflow inputs of the `setExtraRandomgeneratedInflow()` and `setExtraRandomgeneratedOutflow()` functions."
   ]
  },
  {
   "cell_type": "code",
   "execution_count": 6,
   "id": "a1e09499",
   "metadata": {},
   "outputs": [],
   "source": [
    "RN = pyRN.setRandomgeneratedWithInflow(Nr=12,Ns=12,extra=.4, dist=lambda x: x*0+1, pr=0, pp=0, inflow=0.1, outflow=0.1)\n",
    "nt=RN.getRnDisplayPv() #display of the network\n",
    "nt.show(\"RG_3.html\")"
   ]
  }
 ],
 "metadata": {
  "kernelspec": {
   "display_name": "Python 3 (ipykernel)",
   "language": "python",
   "name": "python3"
  },
  "language_info": {
   "codemirror_mode": {
    "name": "ipython",
    "version": 3
   },
   "file_extension": ".py",
   "mimetype": "text/x-python",
   "name": "python",
   "nbconvert_exporter": "python",
   "pygments_lexer": "ipython3",
   "version": "3.9.2"
  }
 },
 "nbformat": 4,
 "nbformat_minor": 5
}
