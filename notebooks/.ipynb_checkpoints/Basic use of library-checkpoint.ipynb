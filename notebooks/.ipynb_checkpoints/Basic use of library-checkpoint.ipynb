{
 "cells": [
  {
   "cell_type": "markdown",
   "id": "a918eac9",
   "metadata": {},
   "source": [
    "# Basic use of library\n",
    "\n",
    "After a successful installation (see Intoduction.ipynb), the library can be imported."
   ]
  },
  {
   "cell_type": "code",
   "execution_count": null,
   "id": "65a2958a",
   "metadata": {},
   "outputs": [],
   "source": [
    "from pyRN import pyRN"
   ]
  },
  {
   "cell_type": "markdown",
   "id": "4a18b29e",
   "metadata": {},
   "source": [
    "Reaction networks can be loaded form a text files, please refer to `../netwoks/rn_test.txt` to see an example. Textfiles preserve [antimony](https://http://antimony.sourceforge.net/) general strucutre in terms of reaction and reaction arrows (=> for unidirectional reactions and -> for reversible reaction). So an pyRN object can be created by the following command:"
   ]
  },
  {
   "cell_type": "code",
   "execution_count": null,
   "id": "cb8a97d4",
   "metadata": {},
   "outputs": [],
   "source": [
    "file=\"../networks/rn_test.txt\"\n",
    "RN = pyRN.from_txt(file)"
   ]
  },
  {
   "cell_type": "markdown",
   "id": "24cfbcee",
   "metadata": {},
   "source": [
    "Alternative sbml files can be loaded:"
   ]
  },
  {
   "cell_type": "code",
   "execution_count": null,
   "id": "004beedb",
   "metadata": {},
   "outputs": [],
   "source": [
    "file=\"networks/PW000035.sbml\"\n",
    "RN = pyRN.from_sbml(file,modifiers=True,bond_con=True,rand_bc=False)"
   ]
  },
  {
   "cell_type": "markdown",
   "id": "5848116c",
   "metadata": {},
   "source": [
    "The latter inizialization options corresponds to:\n",
    "\n",
    "- `modifiers`: if consider modifiers species as catalizers\n",
    "- `bond_con`: if considers boundary condition species as inflow, by adding a reaction\n",
    "- `rand_bc`: Consider a random selection of the bonday condition species as inflow.\n",
    "\n",
    "Once the reaction network is inizialized, basic properties can be easily obtained:"
   ]
  },
  {
   "cell_type": "code",
   "execution_count": null,
   "id": "a5054611",
   "metadata": {},
   "outputs": [],
   "source": [
    "print(\"Vector of species\")\n",
    "print(RN.sp)\n",
    "print(\"Vector of species names, in case of an initialization form an smbl file result can be different\")\n",
    "print(RN.sp_n)\n",
    "print(\"Display species\")\n",
    "print(RN.sin_print_sp())\n",
    "print(\"Display reactions\")\n",
    "print(RN.sin_print_r())\n",
    "print(\"Reactive stochiometric matrix\")\n",
    "print(RN.mr)\n",
    "print(\"Productive stoichimetric matrix\")\n",
    "print(RN.mp)\n",
    "print(\"Stoichiometric Matrix\")\n",
    "print(RN.mp-RN.mr)\n",
    "print(\"Inflow species\")\n",
    "print(RN.is_inflow(RN.sp,set_type=True))\n",
    "print(\"Outflow species\")\n",
    "print(RN.is_outflow(RN.sp,set_type=True))"
   ]
  },
  {
   "cell_type": "markdown",
   "id": "35b8bbdb",
   "metadata": {},
   "source": [
    "The functions `sin_print_sp()` and `sin_print_r()` can receive as argument `np.arrays` of the elements to be displayed. The `is_inflow()` and `is_outflow()` functions, the `set_type=True` argument is necessary the function display corresponds to an `np.array object` and therefore understandable. \n",
    "\n",
    "There are also functions to visualize the network as well as the stoichiometric matrix:"
   ]
  },
  {
   "cell_type": "code",
   "execution_count": null,
   "id": "ccf2d314",
   "metadata": {},
   "outputs": [],
   "source": [
    "RN.plot_S()\n",
    "nt=RN.display_RN()\n",
    "nt.show(\"RN.html\")"
   ]
  }
 ],
 "metadata": {
  "kernelspec": {
   "display_name": "Python 3 (ipykernel)",
   "language": "python",
   "name": "python3"
  },
  "language_info": {
   "codemirror_mode": {
    "name": "ipython",
    "version": 3
   },
   "file_extension": ".py",
   "mimetype": "text/x-python",
   "name": "python",
   "nbconvert_exporter": "python",
   "pygments_lexer": "ipython3",
   "version": "3.9.2"
  }
 },
 "nbformat": 4,
 "nbformat_minor": 5
}
